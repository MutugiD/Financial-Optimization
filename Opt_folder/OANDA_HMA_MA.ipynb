{
 "cells": [
  {
   "cell_type": "code",
   "execution_count": 121,
   "metadata": {},
   "outputs": [],
   "source": [
    "import oandapyV20\n",
    "import oandapyV20.endpoints.instruments as instruments\n",
    "import oandapyV20.endpoints.pricing as pricing\n",
    "import oandapyV20.endpoints.accounts as accounts\n",
    "import oandapyV20.endpoints.orders as orders\n",
    "import oandapyV20.endpoints.trades as trades\n",
    "import pandas as pd\n",
    "import datetime as dt \n",
    "\n",
    "key = '#####'\n",
    "client = oandapyV20.API(access_token=key)\n",
    "id = '###'\n",
    "\n",
    "pair = \"USD_JPY\"\n",
    "#get historical data (candles)\n",
    "params = {\"count\": 150,\"granularity\": \"H1\"} \n",
    "#granularity can be in seconds S5 - S30, minutes M1 - M30, hours H1 - H12, days D, weeks W or months M\n",
    "candles = instruments.InstrumentsCandles(instrument= pair, params=params)\n",
    "client.request(candles)\n",
    "#print(candles.response)\n",
    "ohlc_dict = candles.response[\"candles\"]\n",
    "ohlc = pd.DataFrame(ohlc_dict)\n",
    "ohlc_df = ohlc.mid.dropna().apply(pd.Series)\n",
    "ohlc_df[\"volume\"] = ohlc[\"volume\"]\n",
    "ohlc_df.index = ohlc[\"time\"]\n",
    "ohlc_df = ohlc_df.apply(pd.to_numeric)\n",
    "df = ohlc_df"
   ]
  },
  {
   "cell_type": "code",
   "execution_count": 122,
   "metadata": {},
   "outputs": [],
   "source": [
    "import datetime \n",
    "from datetime import datetime\n",
    "import numpy as np\n",
    "from pyti.hull_moving_average import hull_moving_average as hma\n",
    "import matplotlib.pyplot as plt\n",
    "%matplotlib inline"
   ]
  },
  {
   "cell_type": "code",
   "execution_count": 138,
   "metadata": {},
   "outputs": [
    {
     "data": {
      "text/html": [
       "<div>\n",
       "<style scoped>\n",
       "    .dataframe tbody tr th:only-of-type {\n",
       "        vertical-align: middle;\n",
       "    }\n",
       "\n",
       "    .dataframe tbody tr th {\n",
       "        vertical-align: top;\n",
       "    }\n",
       "\n",
       "    .dataframe thead th {\n",
       "        text-align: right;\n",
       "    }\n",
       "</style>\n",
       "<table border=\"1\" class=\"dataframe\">\n",
       "  <thead>\n",
       "    <tr style=\"text-align: right;\">\n",
       "      <th></th>\n",
       "      <th>o</th>\n",
       "      <th>h</th>\n",
       "      <th>l</th>\n",
       "      <th>c</th>\n",
       "      <th>volume</th>\n",
       "      <th>fast_MA</th>\n",
       "      <th>slow_MA</th>\n",
       "      <th>fast_HMA</th>\n",
       "      <th>slow_HMA</th>\n",
       "    </tr>\n",
       "  </thead>\n",
       "  <tbody>\n",
       "    <tr>\n",
       "      <th>2020-11-12</th>\n",
       "      <td>105.128</td>\n",
       "      <td>105.172</td>\n",
       "      <td>105.101</td>\n",
       "      <td>105.160</td>\n",
       "      <td>3535</td>\n",
       "      <td>NaN</td>\n",
       "      <td>NaN</td>\n",
       "      <td>NaN</td>\n",
       "      <td>NaN</td>\n",
       "    </tr>\n",
       "    <tr>\n",
       "      <th>2020-11-13</th>\n",
       "      <td>105.159</td>\n",
       "      <td>105.236</td>\n",
       "      <td>105.150</td>\n",
       "      <td>105.208</td>\n",
       "      <td>2233</td>\n",
       "      <td>NaN</td>\n",
       "      <td>NaN</td>\n",
       "      <td>NaN</td>\n",
       "      <td>NaN</td>\n",
       "    </tr>\n",
       "    <tr>\n",
       "      <th>2020-11-14</th>\n",
       "      <td>105.206</td>\n",
       "      <td>105.230</td>\n",
       "      <td>105.096</td>\n",
       "      <td>105.149</td>\n",
       "      <td>2550</td>\n",
       "      <td>NaN</td>\n",
       "      <td>NaN</td>\n",
       "      <td>NaN</td>\n",
       "      <td>NaN</td>\n",
       "    </tr>\n",
       "    <tr>\n",
       "      <th>2020-11-15</th>\n",
       "      <td>105.150</td>\n",
       "      <td>105.182</td>\n",
       "      <td>105.090</td>\n",
       "      <td>105.090</td>\n",
       "      <td>2317</td>\n",
       "      <td>NaN</td>\n",
       "      <td>NaN</td>\n",
       "      <td>NaN</td>\n",
       "      <td>NaN</td>\n",
       "    </tr>\n",
       "    <tr>\n",
       "      <th>2020-11-16</th>\n",
       "      <td>105.088</td>\n",
       "      <td>105.148</td>\n",
       "      <td>105.070</td>\n",
       "      <td>105.132</td>\n",
       "      <td>2258</td>\n",
       "      <td>NaN</td>\n",
       "      <td>NaN</td>\n",
       "      <td>NaN</td>\n",
       "      <td>NaN</td>\n",
       "    </tr>\n",
       "    <tr>\n",
       "      <th>...</th>\n",
       "      <td>...</td>\n",
       "      <td>...</td>\n",
       "      <td>...</td>\n",
       "      <td>...</td>\n",
       "      <td>...</td>\n",
       "      <td>...</td>\n",
       "      <td>...</td>\n",
       "      <td>...</td>\n",
       "      <td>...</td>\n",
       "    </tr>\n",
       "    <tr>\n",
       "      <th>2021-04-06</th>\n",
       "      <td>103.816</td>\n",
       "      <td>103.856</td>\n",
       "      <td>103.806</td>\n",
       "      <td>103.836</td>\n",
       "      <td>1818</td>\n",
       "      <td>103.807111</td>\n",
       "      <td>103.814500</td>\n",
       "      <td>103.813756</td>\n",
       "      <td>103.801499</td>\n",
       "    </tr>\n",
       "    <tr>\n",
       "      <th>2021-04-07</th>\n",
       "      <td>103.838</td>\n",
       "      <td>103.859</td>\n",
       "      <td>103.813</td>\n",
       "      <td>103.824</td>\n",
       "      <td>1100</td>\n",
       "      <td>103.809778</td>\n",
       "      <td>103.813389</td>\n",
       "      <td>103.828374</td>\n",
       "      <td>103.807654</td>\n",
       "    </tr>\n",
       "    <tr>\n",
       "      <th>2021-04-08</th>\n",
       "      <td>103.825</td>\n",
       "      <td>103.846</td>\n",
       "      <td>103.810</td>\n",
       "      <td>103.822</td>\n",
       "      <td>987</td>\n",
       "      <td>103.808889</td>\n",
       "      <td>103.810667</td>\n",
       "      <td>103.834263</td>\n",
       "      <td>103.813410</td>\n",
       "    </tr>\n",
       "    <tr>\n",
       "      <th>2021-04-09</th>\n",
       "      <td>103.824</td>\n",
       "      <td>103.844</td>\n",
       "      <td>103.812</td>\n",
       "      <td>103.822</td>\n",
       "      <td>1367</td>\n",
       "      <td>103.811111</td>\n",
       "      <td>103.810111</td>\n",
       "      <td>103.832707</td>\n",
       "      <td>103.818450</td>\n",
       "    </tr>\n",
       "    <tr>\n",
       "      <th>2021-04-10</th>\n",
       "      <td>103.821</td>\n",
       "      <td>103.866</td>\n",
       "      <td>103.808</td>\n",
       "      <td>103.858</td>\n",
       "      <td>1261</td>\n",
       "      <td>103.817889</td>\n",
       "      <td>103.812389</td>\n",
       "      <td>103.838904</td>\n",
       "      <td>103.826524</td>\n",
       "    </tr>\n",
       "  </tbody>\n",
       "</table>\n",
       "<p>150 rows × 9 columns</p>\n",
       "</div>"
      ],
      "text/plain": [
       "                  o        h        l        c  volume     fast_MA  \\\n",
       "2020-11-12  105.128  105.172  105.101  105.160    3535         NaN   \n",
       "2020-11-13  105.159  105.236  105.150  105.208    2233         NaN   \n",
       "2020-11-14  105.206  105.230  105.096  105.149    2550         NaN   \n",
       "2020-11-15  105.150  105.182  105.090  105.090    2317         NaN   \n",
       "2020-11-16  105.088  105.148  105.070  105.132    2258         NaN   \n",
       "...             ...      ...      ...      ...     ...         ...   \n",
       "2021-04-06  103.816  103.856  103.806  103.836    1818  103.807111   \n",
       "2021-04-07  103.838  103.859  103.813  103.824    1100  103.809778   \n",
       "2021-04-08  103.825  103.846  103.810  103.822     987  103.808889   \n",
       "2021-04-09  103.824  103.844  103.812  103.822    1367  103.811111   \n",
       "2021-04-10  103.821  103.866  103.808  103.858    1261  103.817889   \n",
       "\n",
       "               slow_MA    fast_HMA    slow_HMA  \n",
       "2020-11-12         NaN         NaN         NaN  \n",
       "2020-11-13         NaN         NaN         NaN  \n",
       "2020-11-14         NaN         NaN         NaN  \n",
       "2020-11-15         NaN         NaN         NaN  \n",
       "2020-11-16         NaN         NaN         NaN  \n",
       "...                ...         ...         ...  \n",
       "2021-04-06  103.814500  103.813756  103.801499  \n",
       "2021-04-07  103.813389  103.828374  103.807654  \n",
       "2021-04-08  103.810667  103.834263  103.813410  \n",
       "2021-04-09  103.810111  103.832707  103.818450  \n",
       "2021-04-10  103.812389  103.838904  103.826524  \n",
       "\n",
       "[150 rows x 9 columns]"
      ]
     },
     "execution_count": 138,
     "metadata": {},
     "output_type": "execute_result"
    }
   ],
   "source": [
    "df['c'] = df.c.astype(float)\n",
    "frequency = pd.date_range(pd.to_datetime(df.index[0]), periods=len(df.index), freq='1D')\n",
    "frequency = frequency.strftime(\"%Y-%m-%d\")\n",
    "df = df.set_index(pd.DatetimeIndex(frequency))\n",
    "df"
   ]
  },
  {
   "cell_type": "code",
   "execution_count": 131,
   "metadata": {},
   "outputs": [
    {
     "data": {
      "image/png": "[encoded data removed]",
      "text/plain": [
       "<Figure size 432x288 with 1 Axes>"
      ]
     },
     "metadata": {
      "needs_background": "light"
     },
     "output_type": "display_data"
    }
   ],
   "source": [
    "fig, ax = plt.subplots()\n",
    "ax.plot(df.index, df['c'])\n",
    "ax.set(xlabel='Price(s)', ylabel='Time',\n",
    "       title='Hull MA')\n",
    "ax.grid()\n",
    "plt.show()"
   ]
  },
  {
   "cell_type": "code",
   "execution_count": 133,
   "metadata": {},
   "outputs": [],
   "source": [
    "fast = 9\n",
    "slow = 18\n",
    "df['fast_MA'] = df['c'].rolling(fast).mean()\n",
    "df['slow_MA'] = df['c'].rolling(slow).mean()"
   ]
  },
  {
   "cell_type": "code",
   "execution_count": 136,
   "metadata": {},
   "outputs": [
    {
     "data": {
      "text/plain": [
       "Index(['o', 'h', 'l', 'c', 'volume', 'fast_MA', 'slow_MA', 'fast_HMA',\n",
       "       'slow_HMA'],\n",
       "      dtype='object')"
      ]
     },
     "execution_count": 136,
     "metadata": {},
     "output_type": "execute_result"
    }
   ],
   "source": [
    "fast = 9\n",
    "slow = 18\n",
    "df['fast_HMA'] = hma(df['c'], fast)\n",
    "df['slow_HMA'] = hma(df['c'], slow)\n",
    "df.columns"
   ]
  },
  {
   "cell_type": "code",
   "execution_count": 137,
   "metadata": {},
   "outputs": [
    {
     "data": {
      "image/png": "[encoded data removed]",
      "text/plain": [
       "<Figure size 432x288 with 1 Axes>"
      ]
     },
     "metadata": {
      "needs_background": "light"
     },
     "output_type": "display_data"
    }
   ],
   "source": [
    "fig, ax = plt.subplots()\n",
    "a = df[['c', 'fast_MA', 'slow_MA', 'fast_HMA',\n",
    "       'slow_HMA']]\n",
    "ax.plot(df.index, a)\n",
    "ax.set(xlabel='Price', ylabel='Time',\n",
    "       title='Various')\n",
    "ax.grid()\n",
    "plt.show()"
   ]
  }
 ],
 "metadata": {
  "kernelspec": {
   "display_name": "Python 3",
   "language": "python",
   "name": "python3"
  },
  "language_info": {
   "codemirror_mode": {
    "name": "ipython",
    "version": 3
   },
   "file_extension": ".py",
   "mimetype": "text/x-python",
   "name": "python",
   "nbconvert_exporter": "python",
   "pygments_lexer": "ipython3",
   "version": "3.8.3"
  }
 },
 "nbformat": 4,
 "nbformat_minor": 4
}
